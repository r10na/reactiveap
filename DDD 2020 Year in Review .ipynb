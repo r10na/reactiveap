{
 "cells": [
  {
   "cell_type": "markdown",
   "metadata": {},
   "source": [
    "## DDD = Dimwit and Dummy Diaries\n",
    "\n",
    "We have had the year of playing Clash Royale, the year of watching sitcoms. So this year of lockdown and mostly staying at home was sponsored and brought to you by, you guessed it right, Bollywood comedies (for the most part :P)\n",
    "\n",
    "\n",
    "Before that a brief memetroduction of the two people in the spotlight on whom the data has been collected on.\n",
    " \n",
    "Meet Dimwit\n",
    "\n",
    "<img src=\"https://static.spotboye.com/uploads/1443366688_1.jpg\" width=\"400\" height=\"200\">\n",
    "\n",
    "\n",
    "And his dummy, who frankly and sachme bata...\n",
    "\n",
    "<img src=\"https://indianmemetemplates.com/wp-content/uploads/itni-badi-item-bomb-tere-pyaar-mei-giri-kaise.jpg\" width=\"400\" height=\"200\">\n",
    "\n",
    "\n",
    "\n",
    "### HUEHUEHUEHUE ...... let's get on with the analysis.\n",
    "\n",
    "### First things first, gotta does them imports"
   ]
  },
  {
   "cell_type": "code",
   "execution_count": 50,
   "metadata": {},
   "outputs": [],
   "source": [
    "import pandas as pd"
   ]
  },
  {
   "cell_type": "markdown",
   "metadata": {},
   "source": [
    "Yes, I was pretty jobless. But being cute and creative is sorta my thing so, karte hai excel ko import"
   ]
  },
  {
   "cell_type": "code",
   "execution_count": 51,
   "metadata": {},
   "outputs": [
    {
     "name": "stdout",
     "output_type": "stream",
     "text": [
      "             Show/ Movie Reco by Actually By             Genre\n",
      "0                   Asur   Dummy      Dimwit  Mystery Thriller\n",
      "1              Breathe 2  Dimwit      Dimwit  Mystery Thriller\n",
      "2          Prison Break   Dimwit      Dimwit             Drama\n",
      "3   Arrested Development   Dummy      Dimwit            Sitcom\n",
      "4        Andaz Apna Apna  Dimwit      Dimwit            Comedy\n",
      "5          One Two Three  Dimwit      Dimwit            Comedy\n",
      "6     Deewane Huye Pagal  Dimwit      Dimwit            Comedy\n",
      "7    Awara Pagal Deewana  Dimwit      Dimwit            Comedy\n",
      "8                Hungama  Dimwit      Dimwit            Comedy\n",
      "9                   Dhol  Dimwit      Dimwit            Comedy\n",
      "10              The Boys   Dummy      Dimwit    Action Fiction\n",
      "11          Garam Masala  Dimwit      Dimwit            Comedy\n",
      "12           No Problem   Dimwit      Dimwit            Comedy\n",
      "13   Mere baap pehle aap  Dimwit      Dimwit            Comedy\n",
      "14                Stuber   Dummy      Dimwit            Comedy\n",
      "15           Special OPS  Dimwit      Dimwit    Crime Thriller\n",
      "16     The Office India   Dimwit      Dimwit            Comedy\n",
      "17        Fukrey Returns  Dimwit      Dimwit            Comedy\n"
     ]
    }
   ],
   "source": [
    "shows = pd.read_excel (r'DDD.xlsx', sheet_name='Shows')\n",
    "print (shows)"
   ]
  },
  {
   "cell_type": "markdown",
   "metadata": {},
   "source": [
    "Pehle spaces nikaal deti hu column name se, cause excel banaate waqt I was wannabe Wordsmith"
   ]
  },
  {
   "cell_type": "code",
   "execution_count": 52,
   "metadata": {},
   "outputs": [
    {
     "data": {
      "text/html": [
       "<div>\n",
       "<style scoped>\n",
       "    .dataframe tbody tr th:only-of-type {\n",
       "        vertical-align: middle;\n",
       "    }\n",
       "\n",
       "    .dataframe tbody tr th {\n",
       "        vertical-align: top;\n",
       "    }\n",
       "\n",
       "    .dataframe thead th {\n",
       "        text-align: right;\n",
       "    }\n",
       "</style>\n",
       "<table border=\"1\" class=\"dataframe\">\n",
       "  <thead>\n",
       "    <tr style=\"text-align: right;\">\n",
       "      <th></th>\n",
       "      <th>show_movie</th>\n",
       "      <th>reco_by</th>\n",
       "      <th>actually_by</th>\n",
       "      <th>genre</th>\n",
       "    </tr>\n",
       "  </thead>\n",
       "  <tbody>\n",
       "    <tr>\n",
       "      <th>0</th>\n",
       "      <td>Asur</td>\n",
       "      <td>Dummy</td>\n",
       "      <td>Dimwit</td>\n",
       "      <td>Mystery Thriller</td>\n",
       "    </tr>\n",
       "    <tr>\n",
       "      <th>1</th>\n",
       "      <td>Breathe 2</td>\n",
       "      <td>Dimwit</td>\n",
       "      <td>Dimwit</td>\n",
       "      <td>Mystery Thriller</td>\n",
       "    </tr>\n",
       "    <tr>\n",
       "      <th>2</th>\n",
       "      <td>Prison Break</td>\n",
       "      <td>Dimwit</td>\n",
       "      <td>Dimwit</td>\n",
       "      <td>Drama</td>\n",
       "    </tr>\n",
       "    <tr>\n",
       "      <th>3</th>\n",
       "      <td>Arrested Development</td>\n",
       "      <td>Dummy</td>\n",
       "      <td>Dimwit</td>\n",
       "      <td>Sitcom</td>\n",
       "    </tr>\n",
       "    <tr>\n",
       "      <th>4</th>\n",
       "      <td>Andaz Apna Apna</td>\n",
       "      <td>Dimwit</td>\n",
       "      <td>Dimwit</td>\n",
       "      <td>Comedy</td>\n",
       "    </tr>\n",
       "  </tbody>\n",
       "</table>\n",
       "</div>"
      ],
      "text/plain": [
       "             show_movie reco_by actually_by             genre\n",
       "0                  Asur   Dummy      Dimwit  Mystery Thriller\n",
       "1             Breathe 2  Dimwit      Dimwit  Mystery Thriller\n",
       "2         Prison Break   Dimwit      Dimwit             Drama\n",
       "3  Arrested Development   Dummy      Dimwit            Sitcom\n",
       "4       Andaz Apna Apna  Dimwit      Dimwit            Comedy"
      ]
     },
     "execution_count": 52,
     "metadata": {},
     "output_type": "execute_result"
    }
   ],
   "source": [
    "shows = shows.rename(columns={\"Show/ Movie\": \"show_movie\", \"Reco by\": \"reco_by\", \"Actually By\":\"actually_by\", \"Genre\":\"genre\"})\n",
    "shows.head()"
   ]
  },
  {
   "cell_type": "markdown",
   "metadata": {},
   "source": [
    "### Now let's see who recommended more shows."
   ]
  },
  {
   "cell_type": "code",
   "execution_count": 53,
   "metadata": {},
   "outputs": [
    {
     "data": {
      "text/plain": [
       "Dimwit    14\n",
       "Dummy      4\n",
       "Name: reco_by, dtype: int64"
      ]
     },
     "execution_count": 53,
     "metadata": {},
     "output_type": "execute_result"
    }
   ],
   "source": [
    "shows['reco_by'].value_counts()"
   ]
  },
  {
   "cell_type": "code",
   "execution_count": 54,
   "metadata": {},
   "outputs": [
    {
     "data": {
      "text/plain": [
       "Index(['Dimwit', 'Dummy'], dtype='object')"
      ]
     },
     "execution_count": 54,
     "metadata": {},
     "output_type": "execute_result"
    }
   ],
   "source": [
    "shows['reco_by'].value_counts().keys()"
   ]
  },
  {
   "cell_type": "markdown",
   "metadata": {},
   "source": [
    "### More imports, cause pehle bhul gayi"
   ]
  },
  {
   "cell_type": "code",
   "execution_count": 55,
   "metadata": {},
   "outputs": [],
   "source": [
    "import matplotlib.cm as cm\n",
    "import matplotlib.pyplot as plt\n",
    "import numpy as np"
   ]
  },
  {
   "cell_type": "code",
   "execution_count": 56,
   "metadata": {
    "scrolled": false
   },
   "outputs": [
    {
     "data": {
      "image/png": "[encoded data removed]",
      "text/plain": [
       "<Figure size 720x576 with 1 Axes>"
      ]
     },
     "metadata": {},
     "output_type": "display_data"
    }
   ],
   "source": [
    "colors = cm.rainbow(np.linspace(0, 1, len(shows.index[:20])))\n",
    "plt.figure(figsize = (10, 8))\n",
    "plt.xticks(rotation = 90)\n",
    "plt.xlabel(\"Kisne recommend kiya\", fontsize = 16)\n",
    "plt.ylabel(\"Count\", fontsize = 16)\n",
    "plt.title(\"Just like our height :3\", fontsize = 16)\n",
    "plt.bar(list(shows['reco_by'].value_counts().keys()),list(shows['reco_by'].value_counts()), color=colors, width=0.4)\n",
    "plt.show()"
   ]
  },
  {
   "cell_type": "markdown",
   "metadata": {},
   "source": [
    "### Undeniably the undisputed king of comedy recommendations\n",
    "\n",
    "<img src='https://qph.fs.quoracdn.net/main-qimg-c9513101200e95045813feb8f761c8ea' , height=200, width=400>"
   ]
  },
  {
   "cell_type": "markdown",
   "metadata": {},
   "source": [
    "### BUT BUT BUT what do we have here"
   ]
  },
  {
   "cell_type": "code",
   "execution_count": 57,
   "metadata": {},
   "outputs": [
    {
     "data": {
      "image/png": "[encoded data removed]",
      "text/plain": [
       "<Figure size 720x576 with 1 Axes>"
      ]
     },
     "metadata": {},
     "output_type": "display_data"
    }
   ],
   "source": [
    "plt.figure(figsize = (10, 8))\n",
    "plt.xlabel(\"Here lies the nickname of an mjhaat\", fontsize = 16)\n",
    "plt.ylabel(\"Count\", fontsize = 16)\n",
    "plt.title(\"Kisne ACTUALLY recommend kiya\", fontsize = 16)\n",
    "plt.bar(list(shows['actually_by'].value_counts().keys()),list(shows['actually_by'].value_counts()), color=colors, width=0.2)\n",
    "plt.show()"
   ]
  },
  {
   "cell_type": "markdown",
   "metadata": {},
   "source": [
    "### kyunki end me sab tune hi suggest kiya rehta hai\n",
    "\n",
    "<img src='https://pbs.twimg.com/media/EW3DpG_UEAEOd_3.jpg' , height=200, width=400>"
   ]
  },
  {
   "cell_type": "markdown",
   "metadata": {},
   "source": [
    "### We don't need to specifically do this, but since we are here and I am out of things to plot on. Let's plot the most watched genre."
   ]
  },
  {
   "cell_type": "code",
   "execution_count": 58,
   "metadata": {},
   "outputs": [
    {
     "data": {
      "text/plain": [
       "<BarContainer object of 6 artists>"
      ]
     },
     "execution_count": 58,
     "metadata": {},
     "output_type": "execute_result"
    },
    {
     "data": {
      "image/png": "[encoded data removed]",
      "text/plain": [
       "<Figure size 720x576 with 1 Axes>"
      ]
     },
     "metadata": {},
     "output_type": "display_data"
    }
   ],
   "source": [
    "plt.figure(figsize = (10, 8))\n",
    "plt.xticks(rotation = 90)\n",
    "plt.xlabel(\"Genre\", fontsize = 16)\n",
    "plt.ylabel(\"Count\", fontsize = 16)\n",
    "plt.title(\"Kya kya dekha\", fontsize = 16)\n",
    "plt.bar(list(shows['genre'].value_counts().keys()),list(shows['genre'].value_counts()), color = colors)"
   ]
  },
  {
   "attachments": {},
   "cell_type": "markdown",
   "metadata": {},
   "source": [
    "<img src='https://ahseeit.com/hindi-meme-templates/king-include/uploads/2020/10/thumb_comedy-chal-raha-hai-yahan-garam-masala-2741238387.jpg' , height=200, width=400>"
   ]
  },
  {
   "cell_type": "markdown",
   "metadata": {},
   "source": [
    "### Moving on to data sheet numero dos, let's see if you can guess it\n",
    "\n",
    "<img src='https://ytimg.fastimg.xyz/Dli4QGQX_DM.jpg' , height=200, width=400>\n",
    "\n",
    "# Chalti kya\n",
    "\n",
    "\n",
    "### But kidhar mj\n",
    "\n",
    "<img src='https://i.imgflip.com/1tst0r.gif' , height=200, width=400>"
   ]
  },
  {
   "cell_type": "code",
   "execution_count": 59,
   "metadata": {},
   "outputs": [
    {
     "data": {
      "text/html": [
       "<div>\n",
       "<style scoped>\n",
       "    .dataframe tbody tr th:only-of-type {\n",
       "        vertical-align: middle;\n",
       "    }\n",
       "\n",
       "    .dataframe tbody tr th {\n",
       "        vertical-align: top;\n",
       "    }\n",
       "\n",
       "    .dataframe thead th {\n",
       "        text-align: right;\n",
       "    }\n",
       "</style>\n",
       "<table border=\"1\" class=\"dataframe\">\n",
       "  <thead>\n",
       "    <tr style=\"text-align: right;\">\n",
       "      <th></th>\n",
       "      <th>places_visited</th>\n",
       "      <th>kitni_baar</th>\n",
       "      <th>lat</th>\n",
       "      <th>long</th>\n",
       "    </tr>\n",
       "  </thead>\n",
       "  <tbody>\n",
       "    <tr>\n",
       "      <th>0</th>\n",
       "      <td>Poway</td>\n",
       "      <td>kaafi baar</td>\n",
       "      <td>19.125327</td>\n",
       "      <td>72.905814</td>\n",
       "    </tr>\n",
       "    <tr>\n",
       "      <th>1</th>\n",
       "      <td>Kurla/Phoenix</td>\n",
       "      <td>1</td>\n",
       "      <td>19.088370</td>\n",
       "      <td>72.886681</td>\n",
       "    </tr>\n",
       "    <tr>\n",
       "      <th>2</th>\n",
       "      <td>Bandra</td>\n",
       "      <td>1</td>\n",
       "      <td>19.064213</td>\n",
       "      <td>72.809656</td>\n",
       "    </tr>\n",
       "    <tr>\n",
       "      <th>3</th>\n",
       "      <td>CST</td>\n",
       "      <td>1</td>\n",
       "      <td>18.918537</td>\n",
       "      <td>72.815414</td>\n",
       "    </tr>\n",
       "    <tr>\n",
       "      <th>4</th>\n",
       "      <td>Vashi</td>\n",
       "      <td>1</td>\n",
       "      <td>19.082788</td>\n",
       "      <td>72.978218</td>\n",
       "    </tr>\n",
       "    <tr>\n",
       "      <th>5</th>\n",
       "      <td>Lonavla</td>\n",
       "      <td>heart heart</td>\n",
       "      <td>18.737694</td>\n",
       "      <td>73.400392</td>\n",
       "    </tr>\n",
       "    <tr>\n",
       "      <th>6</th>\n",
       "      <td>Airoli (huehuehue)</td>\n",
       "      <td>Jab bhi mai bulau</td>\n",
       "      <td>19.181271</td>\n",
       "      <td>72.979436</td>\n",
       "    </tr>\n",
       "    <tr>\n",
       "      <th>7</th>\n",
       "      <td>Thane</td>\n",
       "      <td>3</td>\n",
       "      <td>19.218300</td>\n",
       "      <td>72.978100</td>\n",
       "    </tr>\n",
       "    <tr>\n",
       "      <th>8</th>\n",
       "      <td>R city</td>\n",
       "      <td>1</td>\n",
       "      <td>19.099700</td>\n",
       "      <td>72.916400</td>\n",
       "    </tr>\n",
       "    <tr>\n",
       "      <th>9</th>\n",
       "      <td>Andheri</td>\n",
       "      <td>1</td>\n",
       "      <td>19.113600</td>\n",
       "      <td>72.869700</td>\n",
       "    </tr>\n",
       "  </tbody>\n",
       "</table>\n",
       "</div>"
      ],
      "text/plain": [
       "       places_visited         kitni_baar        lat       long\n",
       "0               Poway         kaafi baar  19.125327  72.905814\n",
       "1       Kurla/Phoenix                  1  19.088370  72.886681\n",
       "2              Bandra                  1  19.064213  72.809656\n",
       "3                 CST                  1  18.918537  72.815414\n",
       "4               Vashi                  1  19.082788  72.978218\n",
       "5             Lonavla        heart heart  18.737694  73.400392\n",
       "6  Airoli (huehuehue)  Jab bhi mai bulau  19.181271  72.979436\n",
       "7               Thane                  3  19.218300  72.978100\n",
       "8              R city                  1  19.099700  72.916400\n",
       "9             Andheri                  1  19.113600  72.869700"
      ]
     },
     "execution_count": 59,
     "metadata": {},
     "output_type": "execute_result"
    }
   ],
   "source": [
    "places = pd.read_excel(r\"DDD.xlsx\", sheet_name='Places')\n",
    "places"
   ]
  },
  {
   "cell_type": "markdown",
   "metadata": {},
   "source": [
    "### Yeh actual mai maine dhunda hai google maps timeline se. Also I was in Lok Everest half of 2020 for some reason -.-\n",
    "\n",
    "\n",
    "### Ab issi info ko map me daalte hai aur bas khatam. I'm outta ideas and time too."
   ]
  },
  {
   "cell_type": "code",
   "execution_count": 60,
   "metadata": {},
   "outputs": [],
   "source": [
    "from geopy.geocoders import Nominatim"
   ]
  },
  {
   "cell_type": "code",
   "execution_count": 61,
   "metadata": {},
   "outputs": [
    {
     "name": "stdout",
     "output_type": "stream",
     "text": [
      "coordinates are : 19.0759899,72.8773928\n"
     ]
    }
   ],
   "source": [
    "address = 'Mumbai'\n",
    "\n",
    "locator = Nominatim(user_agent='mumbai')\n",
    "location = locator.geocode(address)\n",
    "latitude = location.latitude\n",
    "longitude = location.longitude\n",
    "\n",
    "print(\"coordinates are : {},{}\".format(latitude,longitude))"
   ]
  },
  {
   "cell_type": "code",
   "execution_count": 62,
   "metadata": {},
   "outputs": [],
   "source": [
    "import folium"
   ]
  },
  {
   "cell_type": "code",
   "execution_count": 63,
   "metadata": {
    "scrolled": false
   },
   "outputs": [
    {
     "data": {
      "text/html": [
       "<div style=\"width:100%;\"><div style=\"position:relative;width:100%;height:0;padding-bottom:60%;\"><iframe src=\"about:blank\" style=\"position:absolute;width:100%;height:100%;left:0;top:0;border:none !important;\" data-html=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 onload=\"this.contentDocument.open();this.contentDocument.write(atob(this.getAttribute('data-html')));this.contentDocument.close();\" allowfullscreen webkitallowfullscreen mozallowfullscreen></iframe></div></div>"
      ],
      "text/plain": [
       "<folium.folium.Map at 0x24ecf788358>"
      ]
     },
     "execution_count": 63,
     "metadata": {},
     "output_type": "execute_result"
    }
   ],
   "source": [
    "#map of Maharashtra \n",
    "maha_map = folium.Map(location=[latitude,longitude],zoom_start=10)\n",
    "\n",
    "#adding markers\n",
    "for lat, lng, city in zip(places['lat'],places['long'],places['places_visited']):\n",
    "    label = '{}'.format(city)\n",
    "    label=folium.Popup(label,parse_html=True)\n",
    "    folium.CircleMarker(\n",
    "    [lat,lng], radius=5, popup=label, color='blue', fill=True, parse_html=False).add_to(maha_map)\n",
    "    \n",
    "maha_map\n"
   ]
  },
  {
   "attachments": {},
   "cell_type": "markdown",
   "metadata": {},
   "source": [
    "Ab bas random memes\n",
    "\n",
    "### Most played song of the year\n",
    "\n",
    "<img src='https://i.ytimg.com/vi/v2qiRgb9who/hqdefault.jpg' , height=200, width=400>\n",
    "\n",
    "#### My reaction to you singing it.\n",
    "\n",
    "<img src='https://allmemetemplates.files.wordpress.com/2020/07/img_20200718_173234.jpg' , height=200, width=400>\n",
    "\n",
    "### Best lyrics of the year\n",
    "\n",
    "<img src='chai.png' , height=200, width=400>\n",
    "\n",
    "### Ha bas ab itna hi suja muje. You can see that yo soy muy inteligente. Adios.\n",
    "\n",
    "<img src='https://i1.wp.com/bekahbrunstetter.com/wp-content/uploads/2020/02/fb7f8-giphy.gif?ssl=1' , height=200, width=400>\n",
    "\n",
    "### Si, yeh maine recommend kiya tha (for a change).\n",
    "\n",
    "## P.S Gift aayega thode time me\n",
    "\n",
    "<img src='https://indianmemetemplates.com/wp-content/uploads/kaha-udaya-itna-dher-sara-paisa.jpg' , height=200, width=400>\n",
    "\n"
   ]
  }
 ],
 "metadata": {
  "kernelspec": {
   "display_name": "Python [default]",
   "language": "python",
   "name": "python3"
  },
  "language_info": {
   "codemirror_mode": {
    "name": "ipython",
    "version": 3
   },
   "file_extension": ".py",
   "mimetype": "text/x-python",
   "name": "python",
   "nbconvert_exporter": "python",
   "pygments_lexer": "ipython3",
   "version": "3.6.8"
  }
 },
 "nbformat": 4,
 "nbformat_minor": 2
}
